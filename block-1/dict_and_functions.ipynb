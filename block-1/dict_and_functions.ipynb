{
 "cells": [
  {
   "cell_type": "markdown",
   "id": "bebd34df",
   "metadata": {},
   "source": [
    "# Diccionarios\n",
    "Python proporciona otro tipo de datos compuestos llamado **diccionario**, que es similar a una lista en que es una colección de objetos.\n",
    "Los diccionarios son diferentes de las listas principalmente por cómo acceder a sus elementos:\n",
    "\n",
    "- Se accede a los elementos del diccionario mediante llaves o claves (pares clave-valor).\n",
    "\n",
    "```python\n",
    "student = {\n",
    "    \"name\" : \"Daniel Armas\",\n",
    "    \"email\" : \"daniel62armas@gmail.com\",\n",
    "    \"phone\" : \"772-135-9487\",\n",
    "}\n",
    "```"
   ]
  },
  {
   "cell_type": "code",
   "execution_count": 2,
   "id": "9ac6ac70",
   "metadata": {},
   "outputs": [
    {
     "data": {
      "text/plain": [
       "{'name': 'Paul', 'job': 'Production Enginner'}"
      ]
     },
     "execution_count": 2,
     "metadata": {},
     "output_type": "execute_result"
    }
   ],
   "source": [
    "person = {\n",
    "    'name' : 'Paul',\n",
    "    'job' : 'Production Enginner'\n",
    "}\n",
    "\n",
    "person"
   ]
  },
  {
   "cell_type": "code",
   "execution_count": 3,
   "id": "5ebcbefa",
   "metadata": {},
   "outputs": [
    {
     "data": {
      "text/plain": [
       "'Paul'"
      ]
     },
     "execution_count": 3,
     "metadata": {},
     "output_type": "execute_result"
    }
   ],
   "source": [
    "person['name']"
   ]
  },
  {
   "cell_type": "markdown",
   "id": "0a299550",
   "metadata": {},
   "source": [
    "### Añadir valores"
   ]
  },
  {
   "cell_type": "code",
   "execution_count": 6,
   "id": "d9512b13",
   "metadata": {},
   "outputs": [
    {
     "data": {
      "text/plain": [
       "{'name': 'Paul',\n",
       " 'job': 'Production Enginner',\n",
       " 'email': 'paul@gmail.com',\n",
       " 'age': 24}"
      ]
     },
     "execution_count": 6,
     "metadata": {},
     "output_type": "execute_result"
    }
   ],
   "source": [
    "person['email'] = 'paul@gmail.com'\n",
    "person['age'] = 24\n",
    "person"
   ]
  },
  {
   "cell_type": "markdown",
   "id": "ee98befb",
   "metadata": {},
   "source": [
    "## Lista vs Diccionario🤼\n",
    "| Lista | Diccionario |\n",
    "| ----- | ----------- |\n",
    "| Sirve para trabajar con colecciones de datos ordenados que generalmente son siempre del mismo tipo de dato | Normalmente para trabajar con datos de distintos tipos |\n",
    "\n",
    "### Funciones en Diccionarios"
   ]
  },
  {
   "cell_type": "code",
   "execution_count": 8,
   "id": "01cc2415",
   "metadata": {},
   "outputs": [
    {
     "data": {
      "text/plain": [
       "dict_keys(['name', 'job', 'email', 'age'])"
      ]
     },
     "execution_count": 8,
     "metadata": {},
     "output_type": "execute_result"
    }
   ],
   "source": [
    "# Obtener las keys\n",
    "person.keys()"
   ]
  },
  {
   "cell_type": "code",
   "execution_count": 9,
   "id": "ace10333",
   "metadata": {},
   "outputs": [
    {
     "data": {
      "text/plain": [
       "dict_values(['Paul', 'Production Enginner', 'paul@gmail.com', 24])"
      ]
     },
     "execution_count": 9,
     "metadata": {},
     "output_type": "execute_result"
    }
   ],
   "source": [
    "person.values()"
   ]
  }
 ],
 "metadata": {
  "kernelspec": {
   "display_name": "Python 3 (ipykernel)",
   "language": "python",
   "name": "python3"
  },
  "language_info": {
   "codemirror_mode": {
    "name": "ipython",
    "version": 3
   },
   "file_extension": ".py",
   "mimetype": "text/x-python",
   "name": "python",
   "nbconvert_exporter": "python",
   "pygments_lexer": "ipython3",
   "version": "3.8.10"
  }
 },
 "nbformat": 4,
 "nbformat_minor": 5
}
