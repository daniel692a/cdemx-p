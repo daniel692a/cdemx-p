{
 "cells": [
  {
   "cell_type": "markdown",
   "id": "80dc99d8",
   "metadata": {},
   "source": [
    "# Prueba del módulo 1"
   ]
  },
  {
   "cell_type": "code",
   "execution_count": 5,
   "id": "81be5e7c",
   "metadata": {},
   "outputs": [],
   "source": [
    "age = 17"
   ]
  },
  {
   "cell_type": "code",
   "execution_count": 6,
   "id": "ca1cccff",
   "metadata": {},
   "outputs": [
    {
     "name": "stdout",
     "output_type": "stream",
     "text": [
      "17\n"
     ]
    }
   ],
   "source": [
    "print(age)"
   ]
  },
  {
   "cell_type": "code",
   "execution_count": 7,
   "id": "3327c9e2",
   "metadata": {},
   "outputs": [],
   "source": [
    "under_age = \"Eres menor de edad\" if age<18 else \"Eres mayor de edad\""
   ]
  },
  {
   "cell_type": "code",
   "execution_count": 8,
   "id": "350464ca",
   "metadata": {},
   "outputs": [
    {
     "data": {
      "text/plain": [
       "'Eres menor de edad'"
      ]
     },
     "execution_count": 8,
     "metadata": {},
     "output_type": "execute_result"
    }
   ],
   "source": [
    "under_age"
   ]
  },
  {
   "cell_type": "code",
   "execution_count": 12,
   "id": "c5e96ecd",
   "metadata": {},
   "outputs": [
    {
     "name": "stdout",
     "output_type": "stream",
     "text": [
      "*\n",
      "**\n",
      "***\n",
      "****\n",
      "*****\n",
      "******\n",
      "*******\n",
      "********\n",
      "*********\n",
      "**********\n"
     ]
    }
   ],
   "source": [
    "for i in range(1, 11):\n",
    "    for j in range(i):\n",
    "        print('*', end=\"\")\n",
    "    print()"
   ]
  },
  {
   "cell_type": "code",
   "execution_count": 13,
   "id": "80faec4f",
   "metadata": {},
   "outputs": [
    {
     "data": {
      "text/plain": [
       "['January',\n",
       " 'February',\n",
       " 'March',\n",
       " 'April',\n",
       " 'May',\n",
       " 'June',\n",
       " 'July',\n",
       " 'August',\n",
       " 'September',\n",
       " 'October',\n",
       " 'November',\n",
       " 'December']"
      ]
     },
     "execution_count": 13,
     "metadata": {},
     "output_type": "execute_result"
    }
   ],
   "source": [
    "months = [\n",
    "    'January',\n",
    "    'February',\n",
    "    'March',\n",
    "    'April',\n",
    "    'May',\n",
    "    'June',\n",
    "    'July',\n",
    "    'August',\n",
    "    'September',\n",
    "    'October',\n",
    "    'November',\n",
    "    'December'\n",
    "]\n",
    "months"
   ]
  },
  {
   "cell_type": "code",
   "execution_count": 14,
   "id": "59190c95",
   "metadata": {},
   "outputs": [],
   "source": [
    "# Crea una función que se llame\n",
    "# meses_e que reciba como parámetro\n",
    "# la lista meses y que devuelva\n",
    "# la lista  de los meses que\n",
    "# terminan en \"e\"\n",
    "def meses_e(meses):\n",
    "    #Crea una lista vacía a la que\n",
    "    # se le añadirán los meses que\n",
    "    # terminan en \"e\"\n",
    "    meses_con_e = []\n",
    "    # Tu código va aquí\n",
    "    for mes in meses:\n",
    "        if mes[-1] == 'e':\n",
    "            meses_con_e.append(mes)\n",
    "    return meses_con_e"
   ]
  },
  {
   "cell_type": "code",
   "execution_count": 18,
   "id": "2941e8c0",
   "metadata": {},
   "outputs": [
    {
     "data": {
      "text/plain": [
       "['Septiembre', 'Ostubre', 'Noviembre', 'Diciembre']"
      ]
     },
     "execution_count": 18,
     "metadata": {},
     "output_type": "execute_result"
    }
   ],
   "source": [
    "meses = ['Enero', 'Febrero', 'Marzo', 'Abril', 'Mayo', \n",
    "         'Junio', 'Agosto', 'Septiembre', 'Ostubre', 'Noviembre', 'Diciembre']\n",
    "meses_con_e = meses_e(meses)\n",
    "meses_con_e"
   ]
  },
  {
   "cell_type": "code",
   "execution_count": 24,
   "id": "82646a8b",
   "metadata": {},
   "outputs": [
    {
     "name": "stdout",
     "output_type": "stream",
     "text": [
      "Guanajuato\n"
     ]
    }
   ],
   "source": [
    "# crea un diccionario\n",
    "# llamado clubera, que contenga los\n",
    "# pares clave-valor siguientes:\n",
    "# \"nombre\" - \"Cris\"\n",
    "# \"edad\" - \"27\"\n",
    "# \"sede\" - \"Guanajuato\"\n",
    "# \"area\" - \"bio\"\n",
    "clubera = {\n",
    "    \"nombre\": \"Cris\",\n",
    "    'edad': 27,\n",
    "    'sede': 'Guanajuato',\n",
    "    'area': 'bio',\n",
    "}\n",
    "\n",
    "print(clubera['sede'])"
   ]
  }
 ],
 "metadata": {
  "kernelspec": {
   "display_name": "Python 3 (ipykernel)",
   "language": "python",
   "name": "python3"
  },
  "language_info": {
   "codemirror_mode": {
    "name": "ipython",
    "version": 3
   },
   "file_extension": ".py",
   "mimetype": "text/x-python",
   "name": "python",
   "nbconvert_exporter": "python",
   "pygments_lexer": "ipython3",
   "version": "3.8.10"
  }
 },
 "nbformat": 4,
 "nbformat_minor": 5
}
