{
 "cells": [
  {
   "cell_type": "markdown",
   "id": "b7397b23",
   "metadata": {},
   "source": [
    "# Colecciones\n",
    "Una colección es un conjunto de elementos en una estructura de datos de Python. De manera nativa Python tiene soporte para:\n",
    "- Listas\n",
    "- Tuplas\n",
    "- Diccionarios\n",
    "- Conjuntos\n",
    "## Vistazo:\n",
    "```python\n",
    "my_list = [1.5, 4, True, 'Holas']\n",
    "my_tuple = (1.5, 4, True, 'Holas')\n",
    "my_dict = {\n",
    "    \"day\": 6,\n",
    "    \"month\": \"September\",\n",
    "}\n",
    "```\n",
    "Podemos pensarlo como una macro variable que almacena variables\n",
    "\n",
    "## Listas\n",
    "Una lista es una colección ordenada de cualquier tipo de variables. La sintaxis utilizada para la lista es la siguiente:\n",
    "```python\n",
    "my_list = [ first_item, second_item ]\n",
    "```"
   ]
  },
  {
   "cell_type": "code",
   "execution_count": 1,
   "id": "9016fc06",
   "metadata": {},
   "outputs": [
    {
     "name": "stdout",
     "output_type": "stream",
     "text": [
      "Hello World\n"
     ]
    }
   ],
   "source": [
    "print('Hello World')"
   ]
  }
 ],
 "metadata": {
  "kernelspec": {
   "display_name": "Python 3 (ipykernel)",
   "language": "python",
   "name": "python3"
  },
  "language_info": {
   "codemirror_mode": {
    "name": "ipython",
    "version": 3
   },
   "file_extension": ".py",
   "mimetype": "text/x-python",
   "name": "python",
   "nbconvert_exporter": "python",
   "pygments_lexer": "ipython3",
   "version": "3.8.10"
  }
 },
 "nbformat": 4,
 "nbformat_minor": 5
}
