{
 "cells": [
  {
   "cell_type": "markdown",
   "id": "b7397b23",
   "metadata": {},
   "source": [
    "# Colecciones\n",
    "Una colección es un conjunto de elementos en una estructura de datos de Python. De manera nativa Python tiene soporte para:\n",
    "- Listas\n",
    "- Tuplas\n",
    "- Diccionarios\n",
    "- Conjuntos\n",
    "## Vistazo:\n",
    "```python\n",
    "my_list = [1.5, 4, True, 'Holas']\n",
    "my_tuple = (1.5, 4, True, 'Holas')\n",
    "my_dict = {\n",
    "    \"day\": 6,\n",
    "    \"month\": \"September\",\n",
    "}\n",
    "```\n",
    "Podemos pensarlo como una macro variable que almacena variables\n",
    "\n",
    "## Listas\n",
    "Una lista es una colección ordenada de cualquier tipo de variables. La sintaxis utilizada para la lista es la siguiente:\n",
    "```python\n",
    "my_list = [ first_item, second_item ]\n",
    "```\n",
    "#### Añadir items\n",
    "Hacemos uso de la función `.append(element)`"
   ]
  },
  {
   "cell_type": "code",
   "execution_count": 5,
   "id": "9016fc06",
   "metadata": {},
   "outputs": [
    {
     "name": "stdout",
     "output_type": "stream",
     "text": [
      "['🍊', '🍌', '🥥', '🍍']\n",
      "['🍊', '🍌', '🥥', '🍍', '🍐']\n"
     ]
    }
   ],
   "source": [
    "fruits = ['🍊', '🍌', '🥥', '🍍']\n",
    "print(fruits)\n",
    "fruits.append('🍐')\n",
    "print(fruits)"
   ]
  },
  {
   "cell_type": "markdown",
   "id": "591c50fe",
   "metadata": {},
   "source": [
    "## Obtener un elemento de la lista\n",
    "Para poder accerder a un item de la lista, usamos los índices, recordando que todo inicia en 0:"
   ]
  },
  {
   "cell_type": "code",
   "execution_count": 6,
   "id": "de002cec",
   "metadata": {},
   "outputs": [
    {
     "data": {
      "text/plain": [
       "'🍊'"
      ]
     },
     "execution_count": 6,
     "metadata": {},
     "output_type": "execute_result"
    }
   ],
   "source": [
    "fruits[0]"
   ]
  },
  {
   "cell_type": "code",
   "execution_count": 7,
   "id": "35bb1bb9",
   "metadata": {},
   "outputs": [
    {
     "data": {
      "text/plain": [
       "'🍐'"
      ]
     },
     "execution_count": 7,
     "metadata": {},
     "output_type": "execute_result"
    }
   ],
   "source": [
    "fruits[4]"
   ]
  },
  {
   "cell_type": "code",
   "execution_count": 8,
   "id": "6e0b374d",
   "metadata": {},
   "outputs": [
    {
     "data": {
      "text/plain": [
       "'🍐'"
      ]
     },
     "execution_count": 8,
     "metadata": {},
     "output_type": "execute_result"
    }
   ],
   "source": [
    "#El index también puede tener valores negativos\n",
    "fruits[-1]"
   ]
  },
  {
   "cell_type": "code",
   "execution_count": 9,
   "id": "802c9cce",
   "metadata": {},
   "outputs": [
    {
     "data": {
      "text/plain": [
       "'🍌'"
      ]
     },
     "execution_count": 9,
     "metadata": {},
     "output_type": "execute_result"
    }
   ],
   "source": [
    "fruits[-4]"
   ]
  },
  {
   "cell_type": "markdown",
   "id": "03bdbcf2",
   "metadata": {},
   "source": [
    "#### Ejercicio:"
   ]
  },
  {
   "cell_type": "code",
   "execution_count": 21,
   "id": "76cdd509",
   "metadata": {},
   "outputs": [
    {
     "data": {
      "text/plain": [
       "['Miguel Ángel',\n",
       " 'Isaac García',\n",
       " 'Martin Melo',\n",
       " 'Ulises Gómez',\n",
       " 'Arturo',\n",
       " 'Paul']"
      ]
     },
     "execution_count": 21,
     "metadata": {},
     "output_type": "execute_result"
    }
   ],
   "source": [
    "my_club = [\n",
    "    'Miguel Ángel', \n",
    "    'Isaac García', \n",
    "    'Martin Melo', \n",
    "    'Ulises Gómez'\n",
    "]\n",
    "my_club.extend(['Arturo', 'Paul'])\n",
    "my_club"
   ]
  },
  {
   "cell_type": "markdown",
   "id": "5c3f6ec9",
   "metadata": {},
   "source": [
    "## Tuplas\n",
    "En esencia son igual que una lista, la diferencia es que son objetos inmutables, eso quiere decir que después de crearla no va a poder ser modificada.\n",
    "#### Ejemplo:\n",
    "```python\n",
    "my_tuple= (1, 2, 3, 10, 8.7)\n",
    "```"
   ]
  },
  {
   "cell_type": "code",
   "execution_count": 22,
   "id": "515a063e",
   "metadata": {},
   "outputs": [
    {
     "name": "stdout",
     "output_type": "stream",
     "text": [
      "<class 'tuple'>\n"
     ]
    }
   ],
   "source": [
    "my_tuple = (0, 4, 8)\n",
    "print(type(my_tuple))"
   ]
  },
  {
   "cell_type": "markdown",
   "id": "d4449929",
   "metadata": {},
   "source": [
    "## Tuple vs List🥊\n",
    "| Tuple     | List      |\n",
    "| --------- | --------- |\n",
    "| Tuple is stored in a single block of memory. | List is stored in two blocks of memory (One is fixed sized and the other is variable sized for storing data). |\n",
    "| An element in a tuple cannot be removed or replaced. | An element in a list can be removed or replaced. |\n",
    "| Tuple has a small memory. | List has a large memory. |\n",
    "|  Creating a tuple is faster than creating a list. | Creating a list is slower because two memory blocks need to be accessed. |"
   ]
  },
  {
   "cell_type": "markdown",
   "id": "72688e36",
   "metadata": {},
   "source": [
    "## Ciclos🔃\n",
    "**Iteración** : significa ejecutar el mismo bloque de código una y otra vez, potencialmente muchas veces. Una estructura de programación que implementa la iteración se denomina bucle o ciclo.\n",
    "### Ciclo while\n",
    "Para estos ciclos se debe dar una ***condición*** que determine cuando debe terminar\n",
    "```python\n",
    "while condition:\n",
    "    actions...\n",
    "```"
   ]
  },
  {
   "cell_type": "code",
   "execution_count": 2,
   "id": "75136542",
   "metadata": {},
   "outputs": [
    {
     "name": "stdout",
     "output_type": "stream",
     "text": [
      "Iteration 1\n",
      "Iteration 2\n",
      "Iteration 3\n",
      "Iteration 4\n",
      "Iteration 5\n",
      "Iteration 6\n",
      "Iteration 7\n",
      "Iteration 8\n",
      "Iteration 9\n",
      "Iteration 10\n"
     ]
    }
   ],
   "source": [
    "n_iteration = 1\n",
    "\n",
    "while n_iteration <= 10:\n",
    "    print(f'Iteration {n_iteration}')\n",
    "    n_iteration+=1"
   ]
  },
  {
   "cell_type": "code",
   "execution_count": 4,
   "id": "299b7443",
   "metadata": {},
   "outputs": [
    {
     "name": "stdout",
     "output_type": "stream",
     "text": [
      "1\n",
      "2\n",
      "3\n",
      "4\n",
      "5\n",
      "6\n",
      "7\n",
      "8\n",
      "9\n",
      "10\n",
      "11\n",
      "12\n",
      "13\n",
      "14\n",
      "15\n",
      "16\n",
      "17\n",
      "18\n",
      "19\n",
      "20\n"
     ]
    }
   ],
   "source": [
    "n_iteration = 1\n",
    "while True:\n",
    "    print(n_iteration)\n",
    "    if n_iteration >= 20:\n",
    "        break\n",
    "    n_iteration+=1"
   ]
  },
  {
   "cell_type": "code",
   "execution_count": 8,
   "id": "620d2f61",
   "metadata": {},
   "outputs": [
    {
     "name": "stdout",
     "output_type": "stream",
     "text": [
      "Group 1, element 1 : H\n",
      "Group 1, element 2 : Li\n",
      "Group 1, element 3 : Na\n",
      "Group 1, element 4 : K\n",
      "Group 1, element 5 : Rb\n",
      "Group 1, element 6 : Cs\n",
      "Group 1, element 7 : Fr\n"
     ]
    }
   ],
   "source": [
    "chemistry_elements = [\n",
    "    'H',\n",
    "    'Li',\n",
    "    'Na',\n",
    "    'K',\n",
    "    'Rb',\n",
    "    'Cs',\n",
    "    'Fr',\n",
    "]\n",
    "i=0\n",
    "while True:\n",
    "    print(f'Group 1, element {i+1} : {chemistry_elements[i]}')\n",
    "    if i >= len(chemistry_elements) -1:\n",
    "        break\n",
    "    i+=1"
   ]
  },
  {
   "cell_type": "markdown",
   "id": "e17a998f",
   "metadata": {},
   "source": [
    "### Ciclo for\n",
    "Python tiene un ciclo basado en colecciones o en iteradores. Este tipo de ciclo itera sobre una ***colección de objetos***, en lugar de especificar valores o condiciones numéricos, este ciclo se llama ciclo `for`.\n",
    "```python\n",
    "for element in collection:\n",
    "    actions...\n",
    "```"
   ]
  },
  {
   "cell_type": "code",
   "execution_count": 10,
   "id": "1bbfb1d2",
   "metadata": {},
   "outputs": [
    {
     "name": "stdout",
     "output_type": "stream",
     "text": [
      "January\n",
      "February\n",
      "March\n",
      "April\n",
      "May\n",
      "June\n",
      "July\n",
      "August\n",
      "September\n",
      "October\n",
      "November\n",
      "December\n"
     ]
    }
   ],
   "source": [
    "import time\n",
    "months = [\n",
    "    'January',\n",
    "    'February',\n",
    "    'March',\n",
    "    'April',\n",
    "    'May',\n",
    "    'June',\n",
    "    'July',\n",
    "    'August',\n",
    "    'September',\n",
    "    'October',\n",
    "    'November',\n",
    "    'December',\n",
    "]\n",
    "\n",
    "for month in months:\n",
    "    print(month)\n",
    "    time.sleep(1)"
   ]
  },
  {
   "cell_type": "markdown",
   "id": "5daa8298",
   "metadata": {},
   "source": [
    "Iterar sobre un rango de números"
   ]
  },
  {
   "cell_type": "code",
   "execution_count": 21,
   "id": "090f8538",
   "metadata": {},
   "outputs": [
    {
     "name": "stdout",
     "output_type": "stream",
     "text": [
      "0\n",
      "1\n",
      "2\n",
      "3\n",
      "4\n",
      "5\n",
      "6\n",
      "7\n",
      "8\n",
      "9\n",
      "10\n"
     ]
    }
   ],
   "source": [
    "#range(start, stop-1, step)\n",
    "for num in range(11):\n",
    "    print(num)"
   ]
  },
  {
   "cell_type": "markdown",
   "id": "5534619e",
   "metadata": {},
   "source": [
    "También funciona en tuplas"
   ]
  },
  {
   "cell_type": "code",
   "execution_count": 23,
   "id": "174be568",
   "metadata": {},
   "outputs": [
    {
     "name": "stdout",
     "output_type": "stream",
     "text": [
      "(0, 2, 4, 6, 8)\n"
     ]
    }
   ],
   "source": [
    "print(tuple(range(0, 10, 2)))"
   ]
  }
 ],
 "metadata": {
  "kernelspec": {
   "display_name": "Python 3 (ipykernel)",
   "language": "python",
   "name": "python3"
  },
  "language_info": {
   "codemirror_mode": {
    "name": "ipython",
    "version": 3
   },
   "file_extension": ".py",
   "mimetype": "text/x-python",
   "name": "python",
   "nbconvert_exporter": "python",
   "pygments_lexer": "ipython3",
   "version": "3.8.10"
  }
 },
 "nbformat": 4,
 "nbformat_minor": 5
}
