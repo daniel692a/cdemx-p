{
 "cells": [
  {
   "cell_type": "markdown",
   "id": "ef38d6cd",
   "metadata": {},
   "source": [
    "# I/O Hello World Python!\n",
    "![Clubes de Ciencia](https://clubesdeciencia.mx/wp-content/uploads/2021/03/prueba-1.jpg)"
   ]
  },
  {
   "cell_type": "code",
   "execution_count": 1,
   "id": "7c81d2bb",
   "metadata": {},
   "outputs": [
    {
     "name": "stdout",
     "output_type": "stream",
     "text": [
      "Whats your name? Daniel\n",
      "Welcome Daniel, this is Python\n"
     ]
    }
   ],
   "source": [
    "name = input('Whats your name? ')\n",
    "print(f'Welcome {name}, this is Python')"
   ]
  },
  {
   "cell_type": "markdown",
   "id": "b40e5318",
   "metadata": {},
   "source": [
    "`input()` y `print()` son las funciones de entrada y salida (**I/O**) de información en Python."
   ]
  },
  {
   "cell_type": "markdown",
   "id": "722cbd1d",
   "metadata": {},
   "source": [
    "## Variables"
   ]
  },
  {
   "cell_type": "markdown",
   "id": "3d542241",
   "metadata": {},
   "source": [
    "Forma de crear una variable en Python\n",
    "```python\n",
    "variable_name = <value>\n",
    "```\n",
    "#### Ejemplo:"
   ]
  },
  {
   "cell_type": "code",
   "execution_count": 12,
   "id": "ec66d4e5",
   "metadata": {},
   "outputs": [],
   "source": [
    "my_dog = 'Pipo'"
   ]
  },
  {
   "cell_type": "code",
   "execution_count": 6,
   "id": "2a0dd9fe",
   "metadata": {},
   "outputs": [
    {
     "name": "stdout",
     "output_type": "stream",
     "text": [
      "<class 'int'> <class 'float'>\n"
     ]
    }
   ],
   "source": [
    "age, pi = 18, 3.141592654\n",
    "\n",
    "print(type(age), type(pi))"
   ]
  },
  {
   "cell_type": "markdown",
   "id": "f798e162",
   "metadata": {},
   "source": [
    "Puedes ver dos tipos de datos arriba☝, son **int** y **float**, también podemos cambiar sus tipos de datos."
   ]
  },
  {
   "cell_type": "code",
   "execution_count": 10,
   "id": "b250fe81",
   "metadata": {},
   "outputs": [
    {
     "name": "stdout",
     "output_type": "stream",
     "text": [
      "18.0 <class 'float'>\n"
     ]
    }
   ],
   "source": [
    "age = float(age)\n",
    "print(age, type(age))"
   ]
  },
  {
   "cell_type": "code",
   "execution_count": 11,
   "id": "0d1a6c1d",
   "metadata": {},
   "outputs": [
    {
     "name": "stdout",
     "output_type": "stream",
     "text": [
      "3 <class 'int'>\n"
     ]
    }
   ],
   "source": [
    "pi = int(pi)\n",
    "print(pi, type(pi))"
   ]
  },
  {
   "cell_type": "markdown",
   "id": "c82eaf71",
   "metadata": {},
   "source": [
    "## Tipos de datos\n",
    "- integer\n",
    "- string\n",
    "- float\n",
    "- bool\n",
    "- complex"
   ]
  },
  {
   "cell_type": "markdown",
   "id": "3f1f5504",
   "metadata": {},
   "source": [
    "## Ejercicio"
   ]
  },
  {
   "cell_type": "code",
   "execution_count": 15,
   "id": "3f8bc4db",
   "metadata": {},
   "outputs": [],
   "source": [
    "name_again = 'Daniel'\n",
    "age_again = 18\n",
    "PI = 3.141592654\n",
    "z=3j"
   ]
  },
  {
   "cell_type": "code",
   "execution_count": 16,
   "id": "bcd93997",
   "metadata": {},
   "outputs": [
    {
     "data": {
      "text/plain": [
       "str"
      ]
     },
     "execution_count": 16,
     "metadata": {},
     "output_type": "execute_result"
    }
   ],
   "source": [
    "type(name_again)"
   ]
  },
  {
   "cell_type": "code",
   "execution_count": 17,
   "id": "4d309b8c",
   "metadata": {},
   "outputs": [
    {
     "data": {
      "text/plain": [
       "int"
      ]
     },
     "execution_count": 17,
     "metadata": {},
     "output_type": "execute_result"
    }
   ],
   "source": [
    "type(age_again)"
   ]
  },
  {
   "cell_type": "code",
   "execution_count": 18,
   "id": "c9c6daa2",
   "metadata": {},
   "outputs": [
    {
     "data": {
      "text/plain": [
       "float"
      ]
     },
     "execution_count": 18,
     "metadata": {},
     "output_type": "execute_result"
    }
   ],
   "source": [
    "type(PI)"
   ]
  },
  {
   "cell_type": "code",
   "execution_count": 19,
   "id": "ffaad493",
   "metadata": {},
   "outputs": [
    {
     "data": {
      "text/plain": [
       "complex"
      ]
     },
     "execution_count": 19,
     "metadata": {},
     "output_type": "execute_result"
    }
   ],
   "source": [
    "type(z)"
   ]
  }
 ],
 "metadata": {
  "kernelspec": {
   "display_name": "Python 3 (ipykernel)",
   "language": "python",
   "name": "python3"
  },
  "language_info": {
   "codemirror_mode": {
    "name": "ipython",
    "version": 3
   },
   "file_extension": ".py",
   "mimetype": "text/x-python",
   "name": "python",
   "nbconvert_exporter": "python",
   "pygments_lexer": "ipython3",
   "version": "3.8.10"
  }
 },
 "nbformat": 4,
 "nbformat_minor": 5
}
