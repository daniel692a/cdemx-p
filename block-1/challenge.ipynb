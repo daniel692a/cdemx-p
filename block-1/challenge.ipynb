{
 "cells": [
  {
   "cell_type": "markdown",
   "id": "469aa80b",
   "metadata": {},
   "source": [
    "# Desafío 1\n",
    "## Directorio Clubes de Ciencia México\n",
    "\n",
    "Vamos a prodecer a crear una lista de diccionarios, esto es, un directorio de estudiantes de Clubes de Ciencia que participarán en una edición en línea.\n",
    "\n",
    "Cada estudiante debe tener los siguientes atributos:\n",
    "- Nombre `str`\n",
    "- Edad `int`\n",
    "- Temas `list`\n",
    "- Menores de edad `bool`\n",
    "\n",
    "Puedes asignar los datos a mano o utilizar funciones aleatorias para llenar los campos."
   ]
  },
  {
   "cell_type": "code",
   "execution_count": 34,
   "id": "1bf63a75",
   "metadata": {},
   "outputs": [],
   "source": [
    "def under_age(age):\n",
    "    if age < 18:\n",
    "        return True\n",
    "    else:\n",
    "        return False"
   ]
  },
  {
   "cell_type": "code",
   "execution_count": 33,
   "id": "91e14d68",
   "metadata": {},
   "outputs": [],
   "source": [
    "def register():\n",
    "    student = {\n",
    "        \"rol\" : 'student',\n",
    "    }\n",
    "    name = input('Ingrese su nombre: ')\n",
    "    age = int(input('Ingrese su edad: '))\n",
    "    topics = input('Ingrese sus temas de interés, separe con una coma')\n",
    "    student['name'] = name\n",
    "    student['age'] = age\n",
    "    student['topics'] = topics.split(',')\n",
    "    student['under_age'] = under_age(age)\n",
    "    return student"
   ]
  },
  {
   "cell_type": "code",
   "execution_count": 35,
   "id": "c1ba8c12",
   "metadata": {},
   "outputs": [],
   "source": [
    "def students_log(number_of_students=1):\n",
    "    students = []\n",
    "    for person in range(number_of_students):\n",
    "        student = register()\n",
    "        students.append(student)\n",
    "    return students"
   ]
  },
  {
   "cell_type": "code",
   "execution_count": 36,
   "id": "d462c666",
   "metadata": {},
   "outputs": [
    {
     "name": "stdout",
     "output_type": "stream",
     "text": [
      "Ingrese su nombre: Daniel\n",
      "Ingrese su edad: 18\n",
      "Ingrese sus temas de interés, separe con una comaia, ml, ds\n",
      "Ingrese su nombre: Samuel\n",
      "Ingrese su edad: 17\n",
      "Ingrese sus temas de interés, separe con una comaagricultura, cine, rock\n",
      "Ingrese su nombre: Sandra\n",
      "Ingrese su edad: 22\n",
      "Ingrese sus temas de interés, separe con una comaenseñanza\n"
     ]
    },
    {
     "data": {
      "text/plain": [
       "[{'rol': 'student',\n",
       "  'name': 'Daniel',\n",
       "  'age': 18,\n",
       "  'topics': ['ia', ' ml', ' ds'],\n",
       "  'under_age': False},\n",
       " {'rol': 'student',\n",
       "  'name': 'Samuel',\n",
       "  'age': 17,\n",
       "  'topics': ['agricultura', ' cine', ' rock'],\n",
       "  'under_age': True},\n",
       " {'rol': 'student',\n",
       "  'name': 'Sandra',\n",
       "  'age': 22,\n",
       "  'topics': ['enseñanza'],\n",
       "  'under_age': False}]"
      ]
     },
     "execution_count": 36,
     "metadata": {},
     "output_type": "execute_result"
    }
   ],
   "source": [
    "students_log(3)"
   ]
  }
 ],
 "metadata": {
  "kernelspec": {
   "display_name": "Python 3 (ipykernel)",
   "language": "python",
   "name": "python3"
  },
  "language_info": {
   "codemirror_mode": {
    "name": "ipython",
    "version": 3
   },
   "file_extension": ".py",
   "mimetype": "text/x-python",
   "name": "python",
   "nbconvert_exporter": "python",
   "pygments_lexer": "ipython3",
   "version": "3.8.10"
  }
 },
 "nbformat": 4,
 "nbformat_minor": 5
}
